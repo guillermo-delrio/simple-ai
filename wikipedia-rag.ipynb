{
 "cells": [
  {
   "cell_type": "markdown",
   "id": "a3df44d6-62d0-4324-8052-419503a6b040",
   "metadata": {},
   "source": [
    "# Wikipedia Retrieval Augmented Generation"
   ]
  },
  {
   "cell_type": "code",
   "execution_count": 1,
   "id": "b08eb19f-e65a-47ec-8c19-969c0a68c36d",
   "metadata": {},
   "outputs": [
    {
     "name": "stdout",
     "output_type": "stream",
     "text": [
      "Defaulting to user installation because normal site-packages is not writeable\n",
      "Requirement already satisfied: openai in /home/guille/.local/lib/python3.10/site-packages (0.28.1)\n",
      "Requirement already satisfied: tqdm in /home/guille/.local/lib/python3.10/site-packages (from openai) (4.66.1)\n",
      "Requirement already satisfied: requests>=2.20 in /home/guille/.local/lib/python3.10/site-packages (from openai) (2.31.0)\n",
      "Requirement already satisfied: aiohttp in /home/guille/.local/lib/python3.10/site-packages (from openai) (3.8.6)\n",
      "Requirement already satisfied: idna<4,>=2.5 in /home/guille/.local/lib/python3.10/site-packages (from requests>=2.20->openai) (3.4)\n",
      "Requirement already satisfied: charset-normalizer<4,>=2 in /home/guille/.local/lib/python3.10/site-packages (from requests>=2.20->openai) (3.3.1)\n",
      "Requirement already satisfied: urllib3<3,>=1.21.1 in /home/guille/.local/lib/python3.10/site-packages (from requests>=2.20->openai) (2.0.7)\n",
      "Requirement already satisfied: certifi>=2017.4.17 in /home/guille/.local/lib/python3.10/site-packages (from requests>=2.20->openai) (2023.7.22)\n",
      "Requirement already satisfied: attrs>=17.3.0 in /home/guille/.local/lib/python3.10/site-packages (from aiohttp->openai) (23.1.0)\n",
      "Requirement already satisfied: yarl<2.0,>=1.0 in /home/guille/.local/lib/python3.10/site-packages (from aiohttp->openai) (1.9.2)\n",
      "Requirement already satisfied: frozenlist>=1.1.1 in /home/guille/.local/lib/python3.10/site-packages (from aiohttp->openai) (1.4.0)\n",
      "Requirement already satisfied: async-timeout<5.0,>=4.0.0a3 in /home/guille/.local/lib/python3.10/site-packages (from aiohttp->openai) (4.0.3)\n",
      "Requirement already satisfied: multidict<7.0,>=4.5 in /home/guille/.local/lib/python3.10/site-packages (from aiohttp->openai) (6.0.4)\n",
      "Requirement already satisfied: aiosignal>=1.1.2 in /home/guille/.local/lib/python3.10/site-packages (from aiohttp->openai) (1.3.1)\n",
      "Note: you may need to restart the kernel to use updated packages.\n",
      "Defaulting to user installation because normal site-packages is not writeable\n",
      "Requirement already satisfied: python-dotenv in /home/guille/.local/lib/python3.10/site-packages (1.0.0)\n",
      "Note: you may need to restart the kernel to use updated packages.\n",
      "Defaulting to user installation because normal site-packages is not writeable\n",
      "Requirement already satisfied: wikipedia-api in /home/guille/.local/lib/python3.10/site-packages (0.6.0)\n",
      "Requirement already satisfied: requests in /home/guille/.local/lib/python3.10/site-packages (from wikipedia-api) (2.31.0)\n",
      "Requirement already satisfied: charset-normalizer<4,>=2 in /home/guille/.local/lib/python3.10/site-packages (from requests->wikipedia-api) (3.3.1)\n",
      "Requirement already satisfied: urllib3<3,>=1.21.1 in /home/guille/.local/lib/python3.10/site-packages (from requests->wikipedia-api) (2.0.7)\n",
      "Requirement already satisfied: certifi>=2017.4.17 in /home/guille/.local/lib/python3.10/site-packages (from requests->wikipedia-api) (2023.7.22)\n",
      "Requirement already satisfied: idna<4,>=2.5 in /home/guille/.local/lib/python3.10/site-packages (from requests->wikipedia-api) (3.4)\n",
      "Note: you may need to restart the kernel to use updated packages.\n"
     ]
    }
   ],
   "source": [
    "%pip install openai\n",
    "%pip install python-dotenv\n",
    "%pip install wikipedia-api"
   ]
  },
  {
   "cell_type": "code",
   "execution_count": 2,
   "id": "3d1a7aac-599c-4653-b497-49fe9a31a07d",
   "metadata": {
    "tags": []
   },
   "outputs": [],
   "source": [
    "import os\n",
    "import openai\n",
    "import wikipediaapi\n",
    "import json\n",
    "\n",
    "from dotenv import load_dotenv, find_dotenv\n",
    "_ = load_dotenv(find_dotenv()) # read local .env file\n",
    "openai.api_key = os.environ['OPENAI_API_KEY']"
   ]
  },
  {
   "cell_type": "code",
   "execution_count": 3,
   "id": "e036b435-e842-40a3-8e1c-1d5d716394c6",
   "metadata": {},
   "outputs": [],
   "source": [
    "wiki = wikipediaapi.Wikipedia('Test (email@example.com)', 'en')\n",
    "\n",
    "def getWikipediaPage(name):\n",
    "    \"\"\"Get the Wikipedia page given its name\"\"\"\n",
    "    return wiki.page(name).text"
   ]
  },
  {
   "cell_type": "code",
   "execution_count": 4,
   "id": "8081c373-8933-4b23-baf1-cfeedeb0a41a",
   "metadata": {},
   "outputs": [
    {
     "name": "stdout",
     "output_type": "stream",
     "text": [
      "Hurricane Otis was a compact yet devastating tropical cyclone which made landfall in October 2023 near Acapulco as a Category 5 hurricane. Otis was the first Pacific hurricane to make landfall at Category 5 intensity and surpassed Hurricane Patricia as the strongest landfalling Pacific hurricane on record. The fifteenth tropical storm, tenth hurricane, eighth major hurricane, and second Category 5 hurricane of the 2023 Pacific hurricane season, Otis originated from a disturbance several hundred miles south of the Gulf of Tehuantepec. Initially forecast to only be a weak tropical storm at peak intensity, Otis instead underwent explosive intensification to reach peak winds of 165 mph (270 km/h) and made landfall at peak intensity. Once inland, the hurricane rapidly weakened, before dissipating the following day. \n",
      "Making landfall just west of Acapulco, Otis' powerful winds damaged many of the buildings in the city. Landslides occurred, and flooding resulted from continuous heavy rain. Communication was heavily cut off, initially leaving information about the hurricane's impact largely unknown. Many radio stations were also damaged. In the aftermath, the city had no drinking water and many residents also lost power. The government of Guerrero mobilized thousands of military members to aid survivors and assist in recovery efforts. The hurricane caused at least 39 deaths and left at least 10 missing.\n",
      "\n",
      "Meteorological history\n",
      "The U.S. National Hurricane Center (NHC) first noted on October 15 that an area of low pressure was expected to form south of Guatemala and El Salvador by the middle of the week. A broad low-pressure area formed several hundred miles south of the Gulf of Tehuantepec on October 18 and was generating disorganized thunderstorms. The system increased in organization over the next few days, becoming a tropical depression at 15:00 UTC on October 22. At that time, the depression had strong, increasing convective activity near its well-defined center. Six hours later, the depression became a tropical storm and received the name Otis following a slight increase in organization. The nascent storm was moving slowly northward as it was located within a light steering flow between a low-pressure trough to its northwest and a high-pressure ridge to its northeast. Overnight, deep convection pulsed on the northwestern portion of the circulation with the center becoming more embedded in the colder cloud tops. However, this convective trend plateaued in the early hours of October 23 due to easterly wind shear, which hindered further organization and left the center partially exposed. By 03:00 UTC on October 24, microwave satellite imagery depicted a low-level ring structure in the 37 GHz channel, despite the overall sheared appearance of the system. The NHC noted the imagery as a possible precursor to a rapid intensification event.\n",
      "By the morning of October 24, Otis was organizing with an uptick in convective vigor and expansion of cirrus outflow. Explosive intensification commenced, enabled by lessening of southeasterly wind shear and warm ocean surface temperatures of 29–31 °C (84–88 °F). On visible satellite imagery an eye became apparent, and Otis reached Category 3 status by 21:00 UTC October 24. This upgrade was based on measurements by a Air Force Reserve Unit Hurricane Hunter mission. These measurements revealed that Otis was considerably stronger than the satellite imagery-based Dvorak technique suggested and that Otis was undergoing explosive intensification, with the central surface pressure dropping 10 millibars (0.30 inHg) between passes. The NHC continued to observe increasing organization of the hurricane on satellite imagery throughout the day, with no signs of the intensification abating. At 03:00 UTC October 25, the NHC upgraded Otis to a Category 5 hurricane. In 24 hours, Otis had intensified from a 50 mph (85 km/h) tropical storm to a 160 mph (260 km/h) Category 5 hurricane, an increase of 110 mph (175 km/h), second only to Hurricane Patricia as the largest 24-hour increase on record in the Eastern Pacific. Despite its extreme intensity, Otis was a relatively small hurricane with gale force winds extending outwards only up to 70 miles (110 km) from its center.After becoming a Category 5 hurricane, Otis strengthened slightly more, and at 06:25 UTC on October 25, the hurricane made landfall near Acapulco at peak intensity, with winds of 165 mph (270 km/h) and a central pressure of 923 mb (27.26 inHg), becoming the first Pacific hurricane on record to make landfall at Category 5 intensity, surpassing Hurricane Patricia as the strongest landfalling Pacific hurricane. Overall, it was the fourth-strongest landfalling Mexican hurricane by sustained wind speed, behind the following Atlantic hurricanes, each with sustained winds of 175 mph (280 km/h): Janet in 1955, Anita in 1977, and Dean in 2007. Otis quickly weakened after landfall, weakening to a tropical storm by 18:00 UTC and dissipating within the following three hours.\n",
      "\n",
      "Forecast errors\n",
      "Otis's peak intensity and final track were well beyond what had been forecast by the NHC. When the tropical cyclone formed, three days before its landfall, the track forecast did not show Otis coming ashore, rather curving to the west as a weak tropical storm. Late on October 23, just 24 hours before the hurricane reached Category 5 intensity, the NHC forecast a peak intensity of only 70 mph (110 km/h). The forecast track had shifted to showing Otis making landfall, but even only 16 hours before landfall, the NHC predicted that Otis would peak as a Category 1 hurricane with 90 mph (150 km/h) winds. This forecast also had Otis making landfall between 6:00 am and 6:00 pm local time (12:00 UTC and 00:00 UTC the following day) on October 25, nearly a day after it would actually come inland. Numerical weather prediction models failed to capture the magnitude of explosive intensification that occurred, in part due to a dearth of data. Only a single Hurricane Hunters flight was flown and there is no Doppler weather radar in the landfall area. Some model runs did not even predict landfall at all. Several experts, including  director of the National Hurricane Center Michael Brennan, noted that there are very few instruments—such as ocean buoys or radar—available evaluating hurricane strength in the East Pacific, leaving forecasters reliant on satellite data.\n",
      "\n",
      "‎Preparations\n",
      "In response to the approach of Hurricane Otis, the government of Guerrero opened 396 shelters to accommodate residents displaced by the heavy wind and storm surge damage. Mexico's army and navy sent 8,000 troops to support aid and rescue operations. Authorities in Guerrero closed Acapulco's main port. Schools across Guerrero were to be closed ahead of Otis's anticipated landfall. All flights in and out of Acapulco International Airport were cancelled. In its advisory upgrading Otis to a Category 5 hurricane, 3 hours and 25 minutes before landfall, the NHC described the situation as a \"nightmare scenario\" and warned that \"This is an extremely serious situation for the Acapulco metropolitan area with the core of the destructive hurricane likely to come near or over that large city early on Wednesday. There are no hurricanes on record even close to this intensity for this part of Mexico\".\n",
      "\n",
      "Impact\n",
      "Hurricane Otis made landfall in Acapulco as a Category 5 hurricane on October 25, making it by far the strongest hurricane to ever strike this area of Mexico. A weather station on Isla de La Roqueta offshore western Acapulco recorded a maximum wind gust of 135 mph (217 km/h) as the eyewall moved across the city. Peak sustained winds of 81 mph (130 km/h) were also reported by the station. More than 500,000 customers lost power across the state, although service was quickly restored to 200,000. About 80% of all hotels in Acapulco sustained damage, including reports of flooding and collapsed ceilings inside hotels. Several buildings were also heavily damaged or collapsed. Eighteen radio stations in Acapulco were downed, and communication was cut off in the city. The city also lost access to drinking water. A shopping center in Acapulco was destroyed, and a section of a highway leading into the city was closed after a landslide. Further inland, ten road accidents occured in the Toluca Valley in the state of Mexico, resulting in two deaths.Several airlines were impacted by Otis, with service on Aeroméxico, Volaris, and Viva Aerobus affected and suspended at Acapulco and Zihuatanejo. Acapulco International Airport, which was closed to all flights, was inaccessible. Additionally, the Pie de la Cuesta Air Force Base near Acapulco was damaged, which made it difficult for rescue operations. Otis's passage knocked offline a significant part of the seismic network in Guerrero owned by SkyAlert, an earthquake warning app used widely in Mexico, as well as the SASMEX Network, another network owned by CIRES, responsible of broadcasting alerts through public speakers and radio signals. Twenty-seven sensors were affected throughout Guerrero and parts of neighboring states Michoacán and Oaxaca, as well as two broadcast towers in the cities of Acapulco and Chilpancingo, hindering the ability to notify major cities both close and farther away prone to damage in case an earthquake occurs along the coasts of those three states. Tourism authorities considered Otis the worst hurricane to hit Acapulco, with its impact more severe than both Hurricane Pauline and Hurricane Manuel.  Losses were estimated at US$15 billion by the natural disaster risk analysis firm Enki Research, and at more than US$10 billion by global reinsurance firm Gallagher Re., meaning Otis possibly exceeds Hurricane Wilma as Mexico's most expensive weather disaster ever recorded at US$7.5 billion.\n",
      "\n",
      "Casualties\n",
      "Officially, as of October 28, 2023, at least 39 people were killed and a further 10 missing. However, this does not include 16 fatalities that were reported by the media to have occurred following a power outage at a hospital, which was denied by the government, an unofficial report by National Public Radio journalist Eyder Peralta of 50 bodies being recovered by rescue workers and around 20 more observed by a local, or an unofficial report by a Mexican soldier saying his unit had recovered 1 body and local officials recovered 6 others; adding these would raise the total to at least 132. Local people have criticized the official death toll as an underestimate, to which President Andrés Manuel López Obrador responded by accusing his opponents of making the death toll a political issue. At the time of the first death toll estimate of 27, López Obrador had said \"Even though the death of any person is unfortunate, there weren’t very many\".\n",
      "\n",
      "Aftermath\n",
      "The government of Guerrero mobilized 30 to 40 trucks to transport displaced tourists to shelter. The federal government mobilized 10,000 members of the military to assist in recovery efforts. With Mexican government resources worth approximately US$1.7 billion, the government believed it had the economic resources necessary to repair the damage to Guerrero, although the congressional bloc of Morena offered an additional 10 million pesos in aid. Ten doctors from Michoacán were flown in to Acapulco to assist with recovery efforts. By October 27, the government provided 7,500 liters (1,600 imp gal; 2,000 U.S. gal) of food supplies and 7,000 liters (1,500 imp gal; 1,800 U.S. gal) of water to Acapulco. Walmart offered to match all donations made to the victims of the storm. The United States government provided Mexico with equipment to re-open the roads and said it would honor any requests from the Mexican government for assistance. Reports of looting also occurred throughout the city after the storm, prompting President López Obrador to order the National Guard to set up checkpoints.\n",
      "\n",
      "See also\n",
      "Hurricane Bridget (1971) – a Category 2 hurricane which is considered to be one of the worst hurricanes to hit Acapulco.\n",
      "Hurricane David (1979) – a destructive Atlantic hurricane that directly impacted Santo Domingo, Dominican Republic, as a Category 5 hurricane.\n",
      "Hurricane Andrew (1992) – a small Category 5 Atlantic hurricane which struck the Miami metropolitan area with nearly the same intensity.\n",
      "Hurricane Pauline (1997) – a Category 4 hurricane that severely impacted Acapulco and killed more than 300 people.\n",
      "Hurricane Kenna (2002) – another Category 5 hurricane that made landfall further northwest in Mexico and which was also initially forecast to only be a weak tropical storm at peak intensity\n",
      "Hurricane Manuel (2013) – a destructive Category 1 hurricane which became the costliest Pacific hurricane on record after causing widespread damage in Acapulco and its surrounding areas.\n",
      "\n",
      "Notes\n",
      "References\n",
      "External links\n",
      "\n",
      "NHC's archive on Hurricane Otis\n",
      "National Hurricane Center website\n"
     ]
    }
   ],
   "source": [
    "print(getWikipediaPage(\"Hurricane_Otis\"))"
   ]
  },
  {
   "cell_type": "code",
   "execution_count": 5,
   "id": "290fae11-d9af-40f8-9b78-3d6a847737b2",
   "metadata": {},
   "outputs": [],
   "source": [
    "functions = [\n",
    "    {\n",
    "        \"name\": \"getWikipediaPage\",\n",
    "        \"description\": \"Get the Wikipedia page given its name\",\n",
    "        \"parameters\": {\n",
    "            \"type\": \"object\",\n",
    "            \"properties\": {\n",
    "                \"name\": {\n",
    "                    \"type\": \"string\",\n",
    "                    \"description\": \"Page name\",\n",
    "                },\n",
    "                \"page\": {\"type\": \"string\"},\n",
    "            },\n",
    "            \"required\": [\"location\"],\n",
    "        },\n",
    "    }\n",
    "]"
   ]
  },
  {
   "cell_type": "code",
   "execution_count": 6,
   "id": "5b5e2abe-7cf0-4b00-8c08-b3df91d78eaa",
   "metadata": {},
   "outputs": [],
   "source": [
    "messages = [\n",
    "    {\n",
    "        \"role\": \"user\",\n",
    "        \"content\": \"What is teh category of Hurricane Otis?\"\n",
    "    }\n",
    "]"
   ]
  },
  {
   "cell_type": "code",
   "execution_count": 7,
   "id": "ffa6385a-db38-40fa-b2b8-6fa226913c46",
   "metadata": {},
   "outputs": [],
   "source": [
    "response = openai.ChatCompletion.create(\n",
    "    model=\"gpt-3.5-turbo-0613\",\n",
    "    messages=messages,\n",
    "    functions=functions\n",
    ")"
   ]
  },
  {
   "cell_type": "code",
   "execution_count": 8,
   "id": "0e341605-5e3e-44d1-b64e-79c121aeb8d8",
   "metadata": {
    "scrolled": true
   },
   "outputs": [
    {
     "name": "stdout",
     "output_type": "stream",
     "text": [
      "{\n",
      "  \"id\": \"chatcmpl-8ElfOMvgaW9E661OMNMEY7VQUROGX\",\n",
      "  \"object\": \"chat.completion\",\n",
      "  \"created\": 1698530514,\n",
      "  \"model\": \"gpt-3.5-turbo-0613\",\n",
      "  \"choices\": [\n",
      "    {\n",
      "      \"index\": 0,\n",
      "      \"message\": {\n",
      "        \"role\": \"assistant\",\n",
      "        \"content\": null,\n",
      "        \"function_call\": {\n",
      "          \"name\": \"getWikipediaPage\",\n",
      "          \"arguments\": \"{\\n  \\\"name\\\": \\\"Hurricane_Otis\\\"\\n}\"\n",
      "        }\n",
      "      },\n",
      "      \"finish_reason\": \"function_call\"\n",
      "    }\n",
      "  ],\n",
      "  \"usage\": {\n",
      "    \"prompt_tokens\": 66,\n",
      "    \"completion_tokens\": 21,\n",
      "    \"total_tokens\": 87\n",
      "  }\n",
      "}\n"
     ]
    }
   ],
   "source": [
    "print(response)"
   ]
  },
  {
   "cell_type": "code",
   "execution_count": 9,
   "id": "5748f7ce-9c74-435f-b5dc-d04e627675e3",
   "metadata": {},
   "outputs": [],
   "source": [
    "response_message = response[\"choices\"][0][\"message\"]"
   ]
  },
  {
   "cell_type": "code",
   "execution_count": 10,
   "id": "433a51b6-9c92-4765-85aa-285dccf7748b",
   "metadata": {},
   "outputs": [
    {
     "data": {
      "text/plain": [
       "{'name': 'Hurricane_Otis'}"
      ]
     },
     "execution_count": 10,
     "metadata": {},
     "output_type": "execute_result"
    }
   ],
   "source": [
    "json.loads(response_message[\"function_call\"][\"arguments\"])"
   ]
  },
  {
   "cell_type": "code",
   "execution_count": 11,
   "id": "675d9372-4388-4f18-b44c-e291668ea46d",
   "metadata": {},
   "outputs": [],
   "source": [
    "args = json.loads(response_message[\"function_call\"][\"arguments\"])"
   ]
  },
  {
   "cell_type": "code",
   "execution_count": 12,
   "id": "3cbb1aec-454a-4a34-9a6b-351ee3759a3a",
   "metadata": {
    "scrolled": true
   },
   "outputs": [
    {
     "name": "stdout",
     "output_type": "stream",
     "text": [
      "Hurricane Otis was a compact yet devastating tropical cyclone which made landfall in October 2023 near Acapulco as a Category 5 hurricane. Otis was the first Pacific hurricane to make landfall at Category 5 intensity and surpassed Hurricane Patricia as the strongest landfalling Pacific hurricane on record. The fifteenth tropical storm, tenth hurricane, eighth major hurricane, and second Category 5 hurricane of the 2023 Pacific hurricane season, Otis originated from a disturbance several hundred miles south of the Gulf of Tehuantepec. Initially forecast to only be a weak tropical storm at peak intensity, Otis instead underwent explosive intensification to reach peak winds of 165 mph (270 km/h) and made landfall at peak intensity. Once inland, the hurricane rapidly weakened, before dissipating the following day. \n",
      "Making landfall just west of Acapulco, Otis' powerful winds damaged many of the buildings in the city. Landslides occurred, and flooding resulted from continuous heavy rain. Communication was heavily cut off, initially leaving information about the hurricane's impact largely unknown. Many radio stations were also damaged. In the aftermath, the city had no drinking water and many residents also lost power. The government of Guerrero mobilized thousands of military members to aid survivors and assist in recovery efforts. The hurricane caused at least 39 deaths and left at least 10 missing.\n",
      "\n",
      "Meteorological history\n",
      "The U.S. National Hurricane Center (NHC) first noted on October 15 that an area of low pressure was expected to form south of Guatemala and El Salvador by the middle of the week. A broad low-pressure area formed several hundred miles south of the Gulf of Tehuantepec on October 18 and was generating disorganized thunderstorms. The system increased in organization over the next few days, becoming a tropical depression at 15:00 UTC on October 22. At that time, the depression had strong, increasing convective activity near its well-defined center. Six hours later, the depression became a tropical storm and received the name Otis following a slight increase in organization. The nascent storm was moving slowly northward as it was located within a light steering flow between a low-pressure trough to its northwest and a high-pressure ridge to its northeast. Overnight, deep convection pulsed on the northwestern portion of the circulation with the center becoming more embedded in the colder cloud tops. However, this convective trend plateaued in the early hours of October 23 due to easterly wind shear, which hindered further organization and left the center partially exposed. By 03:00 UTC on October 24, microwave satellite imagery depicted a low-level ring structure in the 37 GHz channel, despite the overall sheared appearance of the system. The NHC noted the imagery as a possible precursor to a rapid intensification event.\n",
      "By the morning of October 24, Otis was organizing with an uptick in convective vigor and expansion of cirrus outflow. Explosive intensification commenced, enabled by lessening of southeasterly wind shear and warm ocean surface temperatures of 29–31 °C (84–88 °F). On visible satellite imagery an eye became apparent, and Otis reached Category 3 status by 21:00 UTC October 24. This upgrade was based on measurements by a Air Force Reserve Unit Hurricane Hunter mission. These measurements revealed that Otis was considerably stronger than the satellite imagery-based Dvorak technique suggested and that Otis was undergoing explosive intensification, with the central surface pressure dropping 10 millibars (0.30 inHg) between passes. The NHC continued to observe increasing organization of the hurricane on satellite imagery throughout the day, with no signs of the intensification abating. At 03:00 UTC October 25, the NHC upgraded Otis to a Category 5 hurricane. In 24 hours, Otis had intensified from a 50 mph (85 km/h) tropical storm to a 160 mph (260 km/h) Category 5 hurricane, an increase of 110 mph (175 km/h), second only to Hurricane Patricia as the largest 24-hour increase on record in the Eastern Pacific. Despite its extreme intensity, Otis was a relatively small hurricane with gale force winds extending outwards only up to 70 miles (110 km) from its center.After becoming a Category 5 hurricane, Otis strengthened slightly more, and at 06:25 UTC on October 25, the hurricane made landfall near Acapulco at peak intensity, with winds of 165 mph (270 km/h) and a central pressure of 923 mb (27.26 inHg), becoming the first Pacific hurricane on record to make landfall at Category 5 intensity, surpassing Hurricane Patricia as the strongest landfalling Pacific hurricane. Overall, it was the fourth-strongest landfalling Mexican hurricane by sustained wind speed, behind the following Atlantic hurricanes, each with sustained winds of 175 mph (280 km/h): Janet in 1955, Anita in 1977, and Dean in 2007. Otis quickly weakened after landfall, weakening to a tropical storm by 18:00 UTC and dissipating within the following three hours.\n",
      "\n",
      "Forecast errors\n",
      "Otis's peak intensity and final track were well beyond what had been forecast by the NHC. When the tropical cyclone formed, three days before its landfall, the track forecast did not show Otis coming ashore, rather curving to the west as a weak tropical storm. Late on October 23, just 24 hours before the hurricane reached Category 5 intensity, the NHC forecast a peak intensity of only 70 mph (110 km/h). The forecast track had shifted to showing Otis making landfall, but even only 16 hours before landfall, the NHC predicted that Otis would peak as a Category 1 hurricane with 90 mph (150 km/h) winds. This forecast also had Otis making landfall between 6:00 am and 6:00 pm local time (12:00 UTC and 00:00 UTC the following day) on October 25, nearly a day after it would actually come inland. Numerical weather prediction models failed to capture the magnitude of explosive intensification that occurred, in part due to a dearth of data. Only a single Hurricane Hunters flight was flown and there is no Doppler weather radar in the landfall area. Some model runs did not even predict landfall at all. Several experts, including  director of the National Hurricane Center Michael Brennan, noted that there are very few instruments—such as ocean buoys or radar—available evaluating hurricane strength in the East Pacific, leaving forecasters reliant on satellite data.\n",
      "\n",
      "‎Preparations\n",
      "In response to the approach of Hurricane Otis, the government of Guerrero opened 396 shelters to accommodate residents displaced by the heavy wind and storm surge damage. Mexico's army and navy sent 8,000 troops to support aid and rescue operations. Authorities in Guerrero closed Acapulco's main port. Schools across Guerrero were to be closed ahead of Otis's anticipated landfall. All flights in and out of Acapulco International Airport were cancelled. In its advisory upgrading Otis to a Category 5 hurricane, 3 hours and 25 minutes before landfall, the NHC described the situation as a \"nightmare scenario\" and warned that \"This is an extremely serious situation for the Acapulco metropolitan area with the core of the destructive hurricane likely to come near or over that large city early on Wednesday. There are no hurricanes on record even close to this intensity for this part of Mexico\".\n",
      "\n",
      "Impact\n",
      "Hurricane Otis made landfall in Acapulco as a Category 5 hurricane on October 25, making it by far the strongest hurricane to ever strike this area of Mexico. A weather station on Isla de La Roqueta offshore western Acapulco recorded a maximum wind gust of 135 mph (217 km/h) as the eyewall moved across the city. Peak sustained winds of 81 mph (130 km/h) were also reported by the station. More than 500,000 customers lost power across the state, although service was quickly restored to 200,000. About 80% of all hotels in Acapulco sustained damage, including reports of flooding and collapsed ceilings inside hotels. Several buildings were also heavily damaged or collapsed. Eighteen radio stations in Acapulco were downed, and communication was cut off in the city. The city also lost access to drinking water. A shopping center in Acapulco was destroyed, and a section of a highway leading into the city was closed after a landslide. Further inland, ten road accidents occured in the Toluca Valley in the state of Mexico, resulting in two deaths.Several airlines were impacted by Otis, with service on Aeroméxico, Volaris, and Viva Aerobus affected and suspended at Acapulco and Zihuatanejo. Acapulco International Airport, which was closed to all flights, was inaccessible. Additionally, the Pie de la Cuesta Air Force Base near Acapulco was damaged, which made it difficult for rescue operations. Otis's passage knocked offline a significant part of the seismic network in Guerrero owned by SkyAlert, an earthquake warning app used widely in Mexico, as well as the SASMEX Network, another network owned by CIRES, responsible of broadcasting alerts through public speakers and radio signals. Twenty-seven sensors were affected throughout Guerrero and parts of neighboring states Michoacán and Oaxaca, as well as two broadcast towers in the cities of Acapulco and Chilpancingo, hindering the ability to notify major cities both close and farther away prone to damage in case an earthquake occurs along the coasts of those three states. Tourism authorities considered Otis the worst hurricane to hit Acapulco, with its impact more severe than both Hurricane Pauline and Hurricane Manuel.  Losses were estimated at US$15 billion by the natural disaster risk analysis firm Enki Research, and at more than US$10 billion by global reinsurance firm Gallagher Re., meaning Otis possibly exceeds Hurricane Wilma as Mexico's most expensive weather disaster ever recorded at US$7.5 billion.\n",
      "\n",
      "Casualties\n",
      "Officially, as of October 28, 2023, at least 39 people were killed and a further 10 missing. However, this does not include 16 fatalities that were reported by the media to have occurred following a power outage at a hospital, which was denied by the government, an unofficial report by National Public Radio journalist Eyder Peralta of 50 bodies being recovered by rescue workers and around 20 more observed by a local, or an unofficial report by a Mexican soldier saying his unit had recovered 1 body and local officials recovered 6 others; adding these would raise the total to at least 132. Local people have criticized the official death toll as an underestimate, to which President Andrés Manuel López Obrador responded by accusing his opponents of making the death toll a political issue. At the time of the first death toll estimate of 27, López Obrador had said \"Even though the death of any person is unfortunate, there weren’t very many\".\n",
      "\n",
      "Aftermath\n",
      "The government of Guerrero mobilized 30 to 40 trucks to transport displaced tourists to shelter. The federal government mobilized 10,000 members of the military to assist in recovery efforts. With Mexican government resources worth approximately US$1.7 billion, the government believed it had the economic resources necessary to repair the damage to Guerrero, although the congressional bloc of Morena offered an additional 10 million pesos in aid. Ten doctors from Michoacán were flown in to Acapulco to assist with recovery efforts. By October 27, the government provided 7,500 liters (1,600 imp gal; 2,000 U.S. gal) of food supplies and 7,000 liters (1,500 imp gal; 1,800 U.S. gal) of water to Acapulco. Walmart offered to match all donations made to the victims of the storm. The United States government provided Mexico with equipment to re-open the roads and said it would honor any requests from the Mexican government for assistance. Reports of looting also occurred throughout the city after the storm, prompting President López Obrador to order the National Guard to set up checkpoints.\n",
      "\n",
      "See also\n",
      "Hurricane Bridget (1971) – a Category 2 hurricane which is considered to be one of the worst hurricanes to hit Acapulco.\n",
      "Hurricane David (1979) – a destructive Atlantic hurricane that directly impacted Santo Domingo, Dominican Republic, as a Category 5 hurricane.\n",
      "Hurricane Andrew (1992) – a small Category 5 Atlantic hurricane which struck the Miami metropolitan area with nearly the same intensity.\n",
      "Hurricane Pauline (1997) – a Category 4 hurricane that severely impacted Acapulco and killed more than 300 people.\n",
      "Hurricane Kenna (2002) – another Category 5 hurricane that made landfall further northwest in Mexico and which was also initially forecast to only be a weak tropical storm at peak intensity\n",
      "Hurricane Manuel (2013) – a destructive Category 1 hurricane which became the costliest Pacific hurricane on record after causing widespread damage in Acapulco and its surrounding areas.\n",
      "\n",
      "Notes\n",
      "References\n",
      "External links\n",
      "\n",
      "NHC's archive on Hurricane Otis\n",
      "National Hurricane Center website\n"
     ]
    }
   ],
   "source": [
    "wikipediaText = getWikipediaPage(args['name'])\n",
    "print(wikipediaText)"
   ]
  },
  {
   "cell_type": "code",
   "execution_count": 13,
   "id": "63454808-10a2-4301-9977-89aa79018152",
   "metadata": {},
   "outputs": [],
   "source": [
    "messages.append(\n",
    "        {\n",
    "            \"role\": \"function\",\n",
    "            \"name\": \"getWikipediaPage\",\n",
    "            \"content\": wikipediaText,\n",
    "        }\n",
    ")"
   ]
  },
  {
   "cell_type": "code",
   "execution_count": 14,
   "id": "f323fb69-c907-4f19-a2d9-80d828b4a5c2",
   "metadata": {},
   "outputs": [
    {
     "name": "stdout",
     "output_type": "stream",
     "text": [
      "Hurricane Otis was a Category 5 hurricane.\n"
     ]
    }
   ],
   "source": [
    "response = openai.ChatCompletion.create(\n",
    "    model=\"gpt-3.5-turbo-0613\",\n",
    "    messages=messages\n",
    ")\n",
    "print(response['choices'][0]['message']['content'])"
   ]
  },
  {
   "cell_type": "code",
   "execution_count": null,
   "id": "bf4bedc6-6342-4d69-9e19-181d2b0aa243",
   "metadata": {},
   "outputs": [],
   "source": []
  },
  {
   "cell_type": "code",
   "execution_count": null,
   "id": "fad839a6-83e9-46a2-9d39-d7be8cbcc6f8",
   "metadata": {},
   "outputs": [],
   "source": []
  },
  {
   "cell_type": "code",
   "execution_count": null,
   "id": "7f71b4b8-3a1c-4c19-9d65-d50340207dca",
   "metadata": {},
   "outputs": [],
   "source": []
  },
  {
   "cell_type": "code",
   "execution_count": null,
   "id": "ca98ceb2-0feb-49c6-9889-70e9b52300e1",
   "metadata": {},
   "outputs": [],
   "source": []
  },
  {
   "cell_type": "code",
   "execution_count": null,
   "id": "ec827289-00c7-444e-aeb2-1e7404fbc15c",
   "metadata": {},
   "outputs": [],
   "source": []
  },
  {
   "cell_type": "code",
   "execution_count": null,
   "id": "1fcd3cb6-a782-427a-bd34-46ce47e5f707",
   "metadata": {},
   "outputs": [],
   "source": []
  },
  {
   "cell_type": "code",
   "execution_count": null,
   "id": "7eef7189-688b-4d79-b11b-67b147a00352",
   "metadata": {},
   "outputs": [],
   "source": []
  },
  {
   "cell_type": "code",
   "execution_count": null,
   "id": "a6733b4e-a958-421c-a3c8-635e91428f34",
   "metadata": {},
   "outputs": [],
   "source": []
  },
  {
   "cell_type": "code",
   "execution_count": null,
   "id": "93d4ecd5-14c1-492e-84ec-b4f6bb508e1c",
   "metadata": {},
   "outputs": [],
   "source": []
  },
  {
   "cell_type": "code",
   "execution_count": null,
   "id": "8e262ae6-092b-4f9e-a1cc-cc1704ecfe76",
   "metadata": {},
   "outputs": [],
   "source": []
  },
  {
   "cell_type": "code",
   "execution_count": null,
   "id": "a5bc5cd3-84f4-4d05-b941-575cafd3e14e",
   "metadata": {},
   "outputs": [],
   "source": []
  },
  {
   "cell_type": "code",
   "execution_count": null,
   "id": "e0ca8690-50b3-42dc-b95c-364bbcd14581",
   "metadata": {},
   "outputs": [],
   "source": []
  },
  {
   "cell_type": "code",
   "execution_count": null,
   "id": "48e64656-d3ee-47a5-96e0-766652f28138",
   "metadata": {},
   "outputs": [],
   "source": []
  },
  {
   "cell_type": "code",
   "execution_count": null,
   "id": "a27659fe-3720-4e13-83d0-fe2d52b03075",
   "metadata": {},
   "outputs": [],
   "source": []
  },
  {
   "cell_type": "code",
   "execution_count": null,
   "id": "b5c16168-2988-4540-a921-b78e299ab5d2",
   "metadata": {},
   "outputs": [],
   "source": []
  },
  {
   "cell_type": "code",
   "execution_count": null,
   "id": "53a1d9ed-fb4e-4f3f-a8df-4a6d67c3ec1a",
   "metadata": {},
   "outputs": [],
   "source": []
  },
  {
   "cell_type": "code",
   "execution_count": null,
   "id": "94ed11cb-5a90-49a5-aecb-48081d146af6",
   "metadata": {},
   "outputs": [],
   "source": []
  },
  {
   "cell_type": "code",
   "execution_count": null,
   "id": "206f0256-9cb4-4f3b-8614-0b69a4eeaac9",
   "metadata": {},
   "outputs": [],
   "source": []
  },
  {
   "cell_type": "code",
   "execution_count": null,
   "id": "e442de8e-ad55-4730-a43b-0c2bc2066b31",
   "metadata": {},
   "outputs": [],
   "source": []
  },
  {
   "cell_type": "code",
   "execution_count": null,
   "id": "5854155b-57f8-49f2-b595-6b6163d9db2a",
   "metadata": {},
   "outputs": [],
   "source": []
  },
  {
   "cell_type": "code",
   "execution_count": null,
   "id": "e8637d7d-d6cc-4c55-b3cc-8dc51a35efb5",
   "metadata": {},
   "outputs": [],
   "source": []
  },
  {
   "cell_type": "code",
   "execution_count": null,
   "id": "9a450da3-ef87-44f7-872c-39a1a714a015",
   "metadata": {},
   "outputs": [],
   "source": []
  },
  {
   "cell_type": "code",
   "execution_count": null,
   "id": "abd24043-91e6-4838-8ce0-7f02802cf62a",
   "metadata": {},
   "outputs": [],
   "source": []
  },
  {
   "cell_type": "code",
   "execution_count": null,
   "id": "63167545-4805-4534-a8c0-9e3161edc02a",
   "metadata": {},
   "outputs": [],
   "source": []
  },
  {
   "cell_type": "code",
   "execution_count": null,
   "id": "eea5a420-9c52-441c-b868-6ce69c498477",
   "metadata": {},
   "outputs": [],
   "source": []
  },
  {
   "cell_type": "code",
   "execution_count": null,
   "id": "1ab51675-a078-4704-b63b-9f722d86b0d9",
   "metadata": {},
   "outputs": [],
   "source": []
  },
  {
   "cell_type": "code",
   "execution_count": null,
   "id": "0d4c2a24-c011-4c44-a78e-611143ff3034",
   "metadata": {},
   "outputs": [],
   "source": []
  },
  {
   "cell_type": "code",
   "execution_count": null,
   "id": "600778a5-a4d5-44aa-b3a7-172c82e74eed",
   "metadata": {},
   "outputs": [],
   "source": []
  },
  {
   "cell_type": "code",
   "execution_count": null,
   "id": "60557042-93b5-4172-8aaa-1219ea35addb",
   "metadata": {},
   "outputs": [],
   "source": []
  },
  {
   "cell_type": "code",
   "execution_count": null,
   "id": "693f24b4-0796-4c2d-86ab-0d23766551d3",
   "metadata": {},
   "outputs": [],
   "source": []
  },
  {
   "cell_type": "code",
   "execution_count": null,
   "id": "611029f7-e4c5-45b0-bcc9-9ec214a32686",
   "metadata": {},
   "outputs": [],
   "source": []
  },
  {
   "cell_type": "code",
   "execution_count": null,
   "id": "e20ed315-b80a-4d82-bda8-41cc54b30b36",
   "metadata": {},
   "outputs": [],
   "source": []
  },
  {
   "cell_type": "code",
   "execution_count": null,
   "id": "be374e72-c849-4962-bb50-33607824bab1",
   "metadata": {},
   "outputs": [],
   "source": []
  },
  {
   "cell_type": "code",
   "execution_count": null,
   "id": "9a7702f2-cee6-4649-a662-6d1dc9d49e0c",
   "metadata": {},
   "outputs": [],
   "source": []
  },
  {
   "cell_type": "code",
   "execution_count": null,
   "id": "37a2ba14-9908-48b1-adad-1ef764114254",
   "metadata": {},
   "outputs": [],
   "source": []
  }
 ],
 "metadata": {
  "kernelspec": {
   "display_name": "Python 3 (ipykernel)",
   "language": "python",
   "name": "python3"
  },
  "language_info": {
   "codemirror_mode": {
    "name": "ipython",
    "version": 3
   },
   "file_extension": ".py",
   "mimetype": "text/x-python",
   "name": "python",
   "nbconvert_exporter": "python",
   "pygments_lexer": "ipython3",
   "version": "3.10.12"
  }
 },
 "nbformat": 4,
 "nbformat_minor": 5
}
